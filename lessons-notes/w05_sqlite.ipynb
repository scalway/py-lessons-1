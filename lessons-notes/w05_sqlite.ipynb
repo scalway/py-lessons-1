{
 "cells": [
  {
   "cell_type": "markdown",
   "metadata": {},
   "source": [
    "# Lekcja 5: Bazy danych SQLite3 w Pythonie\n",
    "\n",
    "SQLite to lekka, wbudowana baza danych, która nie wymaga oddzielnego serwera. Jest idealna do nauki SQL oraz małych i średnich aplikacji."
   ]
  },
  {
   "cell_type": "markdown",
   "metadata": {},
   "source": [
    "## 1. Podstawy - Połączenie z bazą danych\n",
    "\n",
    "Pierwszym krokiem jest zaimportowanie modułu `sqlite3` i utworzenie połączenia z bazą danych."
   ]
  },
  {
   "cell_type": "code",
   "metadata": {},
   "source": [
    "import sqlite3\n",
    "from sqlite3 import connect\n",
    "\n",
    "# Utworzenie połączenia z bazą danych (plik zostanie utworzony jeśli nie istnieje)\n",
    "connection = sqlite3.connect('w05_sqlite_example_database.db')\n",
    "\n",
    "# Utworzenie kursora do wykonywania zapytań SQL\n",
    "cursor = connection.cursor()\n",
    "\n",
    "print(\"Połączenie z bazą danych zostało utworzone!\")"
   ],
   "outputs": [],
   "execution_count": null
  },
  {
   "cell_type": "markdown",
   "metadata": {},
   "source": [
    "### Baza danych w pamięci\n",
    "\n",
    "Możemy również utworzyć bazę danych w pamięci RAM (dane znikną po zamknięciu programu):"
   ]
  },
  {
   "cell_type": "code",
   "metadata": {},
   "source": [
    "# Baza danych w pamięci - idealna do testów\n",
    "conn_ram = sqlite3.connect(':memory:')\n",
    "cursor = conn_ram.cursor()\n",
    "\n",
    "print(\"Baza danych w pamięci została utworzona!\")"
   ],
   "outputs": [],
   "execution_count": null
  },
  {
   "cell_type": "markdown",
   "metadata": {},
   "source": [
    "## 2. Tworzenie tabeli\n",
    "\n",
    "Tabela to struktura przechowująca dane w postaci wierszy i kolumn."
   ]
  },
  {
   "cell_type": "code",
   "metadata": {},
   "source": [
    "# Tworzenie prostej tabeli użytkowników\n",
    "cursor.execute('''\n",
    "    CREATE TABLE IF NOT EXISTS uzytkownicy (\n",
    "        id INTEGER PRIMARY KEY AUTOINCREMENT,\n",
    "        imie TEXT NOT NULL,\n",
    "        nazwisko TEXT NOT NULL,\n",
    "        wiek INTEGER,\n",
    "        email TEXT UNIQUE\n",
    "    )\n",
    "''')\n",
    "\n",
    "# Zapisanie zmian\n",
    "connection.commit()\n",
    "\n",
    "print(\"Tabela 'uzytkownicy' została utworzona!\")"
   ],
   "outputs": [],
   "execution_count": null
  },
  {
   "cell_type": "markdown",
   "metadata": {},
   "source": [
    "## 3. Dodawanie danych (INSERT)\n",
    "\n",
    "Wstawianie pojedynczych rekordów do tabeli."
   ]
  },
  {
   "cell_type": "code",
   "metadata": {},
   "source": [
    "# Wstawianie pojedynczego rekordu\n",
    "cursor.execute('''\n",
    "    INSERT INTO uzytkownicy (imie, nazwisko, wiek, email)\n",
    "    VALUES ('Jan', 'Kowalski', 25, 'jan.kowalski@example.com')\n",
    "''')\n",
    "\n",
    "connection.commit()\n",
    "print(\"Dodano użytkownika Jana Kowalskiego\")"
   ],
   "outputs": [],
   "execution_count": null
  },
  {
   "cell_type": "markdown",
   "metadata": {},
   "source": [
    "### Bezpieczne wstawianie danych (parametryzowane zapytania)\n",
    "\n",
    "Używaj zawsze parametryzowanych zapytań, aby uniknąć SQL Injection!"
   ]
  },
  {
   "cell_type": "code",
   "metadata": {},
   "source": [
    "# Bezpieczne wstawianie danych\n",
    "dane_uzytkownika = ('Anna', 'Nowak', 30, 'anna.nowak@example.com')\n",
    "\n",
    "cursor.execute('''\n",
    "    INSERT INTO uzytkownicy (imie, nazwisko, wiek, email)\n",
    "    VALUES (?, ?, ?, ?)\n",
    "''', dane_uzytkownika)\n",
    "\n",
    "connection.commit()\n",
    "print(f\"Dodano użytkownika: {dane_uzytkownika[0]} {dane_uzytkownika[1]}\")"
   ],
   "outputs": [],
   "execution_count": null
  },
  {
   "cell_type": "markdown",
   "metadata": {},
   "source": [
    "### Wstawianie wielu rekordów naraz"
   ]
  },
  {
   "cell_type": "code",
   "metadata": {},
   "source": [
    "# Wstawianie wielu użytkowników jednocześnie\n",
    "wielu_uzytkownikow = [\n",
    "    ('Piotr', 'Wiśniewski', 28, 'piotr.wisniewski@example.com'),\n",
    "    ('Ewa', 'Kowalczyk', 35, 'ewa.kowalczyk@example.com'),\n",
    "    ('Tomasz', 'Lewandowski', 42, 'tomasz.lewandowski@example.com')\n",
    "]\n",
    "\n",
    "cursor.executemany('''\n",
    "    INSERT INTO uzytkownicy (imie, nazwisko, wiek, email)\n",
    "    VALUES (?, ?, ?, ?)\n",
    "''', wielu_uzytkownikow)\n",
    "\n",
    "connection.commit()\n",
    "print(f\"Dodano {len(wielu_uzytkownikow)} użytkowników\")"
   ],
   "outputs": [],
   "execution_count": null
  },
  {
   "cell_type": "markdown",
   "metadata": {},
   "source": [
    "## 4. Odczytywanie danych (SELECT)\n",
    "\n",
    "Pobieranie danych z tabeli."
   ]
  },
  {
   "cell_type": "code",
   "metadata": {},
   "source": [
    "# Pobranie wszystkich użytkowników\n",
    "cursor.execute('SELECT * FROM uzytkownicy')\n",
    "wszyscy = cursor.fetchall()\n",
    "\n",
    "print(\"Wszyscy użytkownicy:\")\n",
    "for uzytkownik in wszyscy:\n",
    "    print(uzytkownik)"
   ],
   "outputs": [],
   "execution_count": null
  },
  {
   "cell_type": "markdown",
   "metadata": {},
   "source": [
    "### Pobieranie wybranych kolumn"
   ]
  },
  {
   "cell_type": "code",
   "metadata": {},
   "source": [
    "# Pobranie tylko imion i nazwisk\n",
    "cursor.execute('SELECT imie, nazwisko FROM uzytkownicy')\n",
    "imiona_nazwiska = cursor.fetchall()\n",
    "\n",
    "print(\"Imiona i nazwiska:\")\n",
    "for imie, nazwisko in imiona_nazwiska:\n",
    "    print(f\"{imie} {nazwisko}\")"
   ],
   "outputs": [],
   "execution_count": null
  },
  {
   "cell_type": "markdown",
   "metadata": {},
   "source": [
    "### Pobieranie jednego rekordu"
   ]
  },
  {
   "cell_type": "code",
   "metadata": {},
   "source": [
    "# Pobranie pierwszego użytkownika\n",
    "cursor.execute('SELECT * FROM uzytkownicy LIMIT 1')\n",
    "pierwszy = cursor.fetchone()\n",
    "\n",
    "print(\"Pierwszy użytkownik:\", pierwszy)"
   ],
   "outputs": [],
   "execution_count": null
  },
  {
   "cell_type": "markdown",
   "metadata": {},
   "source": [
    "## 5. Filtrowanie danych (WHERE)\n",
    "\n",
    "Wyszukiwanie użytkowników spełniających określone kryteria."
   ]
  },
  {
   "cell_type": "code",
   "metadata": {},
   "source": [
    "# Wyszukiwanie użytkowników starszych niż 30 lat\n",
    "cursor.execute('SELECT * FROM uzytkownicy WHERE wiek > ?', (30,))\n",
    "starsi = cursor.fetchall()\n",
    "\n",
    "print(\"Użytkownicy starsi niż 30 lat:\")\n",
    "for uzytkownik in starsi:\n",
    "    print(f\"{uzytkownik[1]} {uzytkownik[2]}, wiek: {uzytkownik[3]}\")"
   ],
   "outputs": [],
   "execution_count": null
  },
  {
   "cell_type": "code",
   "metadata": {},
   "source": [
    "# Wyszukiwanie po imieniu (LIKE)\n",
    "cursor.execute(\"SELECT * FROM uzytkownicy WHERE imie LIKE 'A%'\")\n",
    "na_a = cursor.fetchall()\n",
    "\n",
    "print(\"Użytkownicy których imię zaczyna się na 'A':\")\n",
    "for uzytkownik in na_a:\n",
    "    print(f\"{uzytkownik[1]} {uzytkownik[2]}\")"
   ],
   "outputs": [],
   "execution_count": null
  },
  {
   "cell_type": "markdown",
   "metadata": {},
   "source": [
    "## 6. Aktualizacja danych (UPDATE)\n",
    "\n",
    "Modyfikowanie istniejących rekordów."
   ]
  },
  {
   "cell_type": "code",
   "metadata": {},
   "source": [
    "# Aktualizacja wieku użytkownika\n",
    "cursor.execute('''\n",
    "    UPDATE uzytkownicy\n",
    "    SET wiek = ?\n",
    "    WHERE email = ?\n",
    "''', (26, 'jan.kowalski@example.com'))\n",
    "\n",
    "connection.commit()\n",
    "print(f\"Zaktualizowano {cursor.rowcount} rekord(ów)\")"
   ],
   "outputs": [],
   "execution_count": null
  },
  {
   "cell_type": "code",
   "metadata": {},
   "source": [
    "# Sprawdzenie zmian\n",
    "cursor.execute(\"SELECT * FROM uzytkownicy WHERE email = ?\", ('jan.kowalski@example.com',))\n",
    "print(\"Zaktualizowany użytkownik:\", cursor.fetchone())"
   ],
   "outputs": [],
   "execution_count": null
  },
  {
   "cell_type": "markdown",
   "metadata": {},
   "source": [
    "## 7. Usuwanie danych (DELETE)\n",
    "\n",
    "Usuwanie rekordów z tabeli."
   ]
  },
  {
   "cell_type": "code",
   "metadata": {},
   "source": [
    "# Dodajmy użytkownika do usunięcia\n",
    "cursor.execute('''\n",
    "    INSERT INTO uzytkownicy (imie, nazwisko, wiek, email)\n",
    "    VALUES (?, ?, ?, ?)\n",
    "''', ('Test', 'Testowy', 99, 'test@example.com'))\n",
    "connection.commit()\n",
    "\n",
    "# Usunięcie użytkownika\n",
    "cursor.execute('DELETE FROM uzytkownicy WHERE email = ?', ('test@example.com',))\n",
    "connection.commit()\n",
    "\n",
    "print(f\"Usunięto {cursor.rowcount} rekord(ów)\")"
   ],
   "outputs": [],
   "execution_count": null
  },
  {
   "cell_type": "markdown",
   "metadata": {},
   "source": [
    "## 8. Zaawansowane - Sortowanie (ORDER BY)"
   ]
  },
  {
   "cell_type": "code",
   "metadata": {},
   "source": [
    "# Sortowanie według wieku (rosnąco)\n",
    "cursor.execute('SELECT imie, nazwisko, wiek FROM uzytkownicy ORDER BY wiek ASC')\n",
    "print(\"Użytkownicy posortowani według wieku (rosnąco):\")\n",
    "for uzytkownik in cursor.fetchall():\n",
    "    print(f\"{uzytkownik[0]} {uzytkownik[1]}: {uzytkownik[2]} lat\")"
   ],
   "outputs": [],
   "execution_count": null
  },
  {
   "cell_type": "code",
   "metadata": {},
   "source": [
    "# Sortowanie według nazwiska (malejąco)\n",
    "cursor.execute('SELECT imie, nazwisko FROM uzytkownicy ORDER BY nazwisko DESC')\n",
    "print(\"\\nUżytkownicy posortowani według nazwiska (malejąco):\")\n",
    "for uzytkownik in cursor.fetchall():\n",
    "    print(f\"{uzytkownik[0]} {uzytkownik[1]}\")"
   ],
   "outputs": [],
   "execution_count": null
  },
  {
   "cell_type": "markdown",
   "metadata": {},
   "source": [
    "## 9. Zaawansowane - Grupowanie (GROUP BY) i funkcje agregujące"
   ]
  },
  {
   "cell_type": "code",
   "metadata": {},
   "source": [
    "# Średni wiek użytkowników\n",
    "cursor.execute('SELECT AVG(wiek) as sredni_wiek FROM uzytkownicy')\n",
    "srednia = cursor.fetchone()[0]\n",
    "print(f\"Średni wiek użytkowników: {srednia:.2f} lat\")"
   ],
   "outputs": [],
   "execution_count": null
  },
  {
   "cell_type": "code",
   "metadata": {},
   "source": [
    "# Liczba użytkowników\n",
    "cursor.execute('SELECT COUNT(*) as liczba FROM uzytkownicy')\n",
    "liczba = cursor.fetchone()[0]\n",
    "print(f\"Liczba użytkowników w bazie: {liczba}\")"
   ],
   "outputs": [],
   "execution_count": null
  },
  {
   "cell_type": "code",
   "metadata": {},
   "source": [
    "# Najstarszy i najmłodszy użytkownik\n",
    "cursor.execute('SELECT MAX(wiek) as najstarszy, MIN(wiek) as najmlodszy FROM uzytkownicy')\n",
    "wynik = cursor.fetchone()\n",
    "print(f\"Najstarszy użytkownik: {wynik[0]} lat\")\n",
    "print(f\"Najmłodszy użytkownik: {wynik[1]} lat\")"
   ],
   "outputs": [],
   "execution_count": null
  },
  {
   "cell_type": "markdown",
   "metadata": {},
   "source": [
    "## 10. Zaawansowane - Relacje między tabelami (JOIN)\n",
    "\n",
    "Stwórzmy dodatkową tabelę z zamówieniami użytkowników."
   ]
  },
  {
   "cell_type": "code",
   "metadata": {},
   "source": [
    "# Tworzenie tabeli zamówień\n",
    "cursor.execute('''\n",
    "    CREATE TABLE IF NOT EXISTS zamowienia (\n",
    "        id INTEGER PRIMARY KEY AUTOINCREMENT,\n",
    "        uzytkownik_id INTEGER,\n",
    "        produkt TEXT NOT NULL,\n",
    "        cena REAL NOT NULL,\n",
    "        data TEXT NOT NULL,\n",
    "        FOREIGN KEY (uzytkownik_id) REFERENCES uzytkownicy(id)\n",
    "    )\n",
    "''')\n",
    "\n",
    "connection.commit()\n",
    "print(\"Tabela 'zamowienia' została utworzona!\")"
   ],
   "outputs": [],
   "execution_count": null
  },
  {
   "cell_type": "code",
   "metadata": {},
   "source": [
    "# Dodanie przykładowych zamówień\n",
    "zamowienia = [\n",
    "    (1, 'Laptop', 3500.00, '2024-01-15'),\n",
    "    (1, 'Mysz', 50.00, '2024-01-15'),\n",
    "    (2, 'Klawiatura', 200.00, '2024-01-16'),\n",
    "    (3, 'Monitor', 1200.00, '2024-01-17'),\n",
    "    (3, 'Głośniki', 300.00, '2024-01-17')\n",
    "]\n",
    "\n",
    "cursor.executemany('''\n",
    "    INSERT INTO zamowienia (uzytkownik_id, produkt, cena, data)\n",
    "    VALUES (?, ?, ?, ?)\n",
    "''', zamowienia)\n",
    "\n",
    "connection.commit()\n",
    "print(f\"Dodano {len(zamowienia)} zamówień\")"
   ],
   "outputs": [],
   "execution_count": null
  },
  {
   "cell_type": "code",
   "metadata": {},
   "source": [
    "# INNER JOIN - połączenie użytkowników z ich zamówieniami\n",
    "cursor.execute('''\n",
    "    SELECT u.imie, u.nazwisko, z.produkt, z.cena, z.data\n",
    "    FROM uzytkownicy u\n",
    "    INNER JOIN zamowienia z ON u.id = z.uzytkownik_id\n",
    "    ORDER BY z.data\n",
    "''')\n",
    "\n",
    "print(\"Użytkownicy i ich zamówienia:\")\n",
    "for row in cursor.fetchall():\n",
    "    print(f\"{row[0]} {row[1]} zamówił(a) {row[2]} za {row[3]} zł w dniu {row[4]}\")"
   ],
   "outputs": [],
   "execution_count": null
  },
  {
   "cell_type": "code",
   "metadata": {},
   "source": [
    "# Suma zamówień dla każdego użytkownika\n",
    "cursor.execute('''\n",
    "    SELECT u.imie, u.nazwisko, SUM(z.cena) as suma_zamowien, COUNT(z.id) as liczba_zamowien\n",
    "    FROM uzytkownicy u\n",
    "    INNER JOIN zamowienia z ON u.id = z.uzytkownik_id\n",
    "    GROUP BY u.id\n",
    "    ORDER BY suma_zamowien DESC\n",
    "''')\n",
    "\n",
    "print(\"\\nPodsumowanie zamówień:\")\n",
    "for row in cursor.fetchall():\n",
    "    print(f\"{row[0]} {row[1]}: {row[2]} zł ({row[3]} zamówień)\")"
   ],
   "outputs": [],
   "execution_count": null
  },
  {
   "cell_type": "markdown",
   "metadata": {},
   "source": [
    "## 11. Zaawansowane - Transakcje\n",
    "\n",
    "Transakcje pozwalają na grupowanie operacji - albo wszystkie się wykonają, albo żadna."
   ]
  },
  {
   "cell_type": "code",
   "metadata": {},
   "source": [
    "try:\n",
    "    # Rozpoczęcie transakcji (automatycznie po każdym execute)\n",
    "    cursor.execute('''\n",
    "        INSERT INTO uzytkownicy (imie, nazwisko, wiek, email)\n",
    "        VALUES (?, ?, ?, ?)\n",
    "    ''', ('Marek', 'Testowy', 33, 'marek.test@example.com'))\n",
    "    \n",
    "    # Pobranie ID nowo dodanego użytkownika\n",
    "    nowy_id = cursor.lastrowid\n",
    "    \n",
    "    cursor.execute('''\n",
    "        INSERT INTO zamowienia (uzytkownik_id, produkt, cena, data)\n",
    "        VALUES (?, ?, ?, ?)\n",
    "    ''', (nowy_id, 'Tablet', 1500.00, '2024-01-20'))\n",
    "    \n",
    "    # Zatwierdzenie transakcji\n",
    "    connection.commit()\n",
    "    print(\"Transakcja zakończona pomyślnie!\")\n",
    "    \n",
    "except sqlite3.Error as e:\n",
    "    # Wycofanie zmian w przypadku błędu\n",
    "    connection.rollback()\n",
    "    print(f\"Błąd: {e}. Transakcja została wycofana.\")"
   ],
   "outputs": [],
   "execution_count": null
  },
  {
   "cell_type": "markdown",
   "metadata": {},
   "source": [
    "## 12. Zaawansowane - Context Manager (with)\n",
    "\n",
    "Używanie `with` zapewnia automatyczne zamknięcie połączenia."
   ]
  },
  {
   "cell_type": "code",
   "metadata": {},
   "source": [
    "# Użycie context managera\n",
    "with sqlite3.connect('moja_baza.db') as conn:\n",
    "    cur = conn.cursor()\n",
    "    cur.execute('SELECT COUNT(*) FROM uzytkownicy')\n",
    "    liczba = cur.fetchone()[0]\n",
    "    print(f\"Liczba użytkowników: {liczba}\")\n",
    "    # Połączenie zostanie automatycznie zamknięte"
   ],
   "outputs": [],
   "execution_count": null
  },
  {
   "cell_type": "markdown",
   "metadata": {},
   "source": [
    "## 13. Zaawansowane - Row Factory (dostęp do kolumn po nazwie)"
   ]
  },
  {
   "cell_type": "code",
   "metadata": {},
   "source": [
    "# Ustawienie row_factory aby móc odwoływać się do kolumn po nazwie\n",
    "connection.row_factory = sqlite3.Row\n",
    "cursor = connection.cursor()\n",
    "\n",
    "cursor.execute('SELECT * FROM uzytkownicy LIMIT 3')\n",
    "\n",
    "print(\"Użytkownicy (dostęp po nazwach kolumn):\")\n",
    "for row in cursor.fetchall():\n",
    "    print(f\"ID: {row['id']}, Imię: {row['imie']}, Nazwisko: {row['nazwisko']}, Wiek: {row['wiek']}\")"
   ],
   "outputs": [],
   "execution_count": null
  },
  {
   "cell_type": "markdown",
   "metadata": {},
   "source": [
    "## 14. Praktyczny przykład - prosty system zarządzania biblioteką"
   ]
  },
  {
   "cell_type": "code",
   "metadata": {},
   "source": [
    "# Tworzenie bazy danych biblioteki\n",
    "biblioteka = sqlite3.connect(':memory:')\n",
    "bib_kursor = biblioteka.cursor()\n",
    "\n",
    "# Tabela książek\n",
    "bib_kursor.execute('''\n",
    "    CREATE TABLE ksiazki (\n",
    "        id INTEGER PRIMARY KEY AUTOINCREMENT,\n",
    "        tytul TEXT NOT NULL,\n",
    "        autor TEXT NOT NULL,\n",
    "        rok_wydania INTEGER,\n",
    "        dostepna BOOLEAN DEFAULT 1\n",
    "    )\n",
    "''')\n",
    "\n",
    "# Tabela wypożyczeń\n",
    "bib_kursor.execute('''\n",
    "    CREATE TABLE wypozyczenia (\n",
    "        id INTEGER PRIMARY KEY AUTOINCREMENT,\n",
    "        ksiazka_id INTEGER,\n",
    "        czytelnik TEXT NOT NULL,\n",
    "        data_wypozyczenia TEXT NOT NULL,\n",
    "        data_zwrotu TEXT,\n",
    "        FOREIGN KEY (ksiazka_id) REFERENCES ksiazki(id)\n",
    "    )\n",
    "''')\n",
    "\n",
    "print(\"Baza danych biblioteki została utworzona!\")"
   ],
   "outputs": [],
   "execution_count": null
  },
  {
   "cell_type": "code",
   "metadata": {},
   "source": [
    "# Dodanie książek do biblioteki\n",
    "ksiazki = [\n",
    "    ('Pan Tadeusz', 'Adam Mickiewicz', 1834),\n",
    "    ('Lalka', 'Bolesław Prus', 1890),\n",
    "    ('Quo Vadis', 'Henryk Sienkiewicz', 1896),\n",
    "    ('Chłopi', 'Władysław Reymont', 1904),\n",
    "    ('Potop', 'Henryk Sienkiewicz', 1886)\n",
    "]\n",
    "\n",
    "bib_kursor.executemany('''\n",
    "    INSERT INTO ksiazki (tytul, autor, rok_wydania)\n",
    "    VALUES (?, ?, ?)\n",
    "''', ksiazki)\n",
    "\n",
    "biblioteka.commit()\n",
    "print(f\"Dodano {len(ksiazki)} książek do biblioteki\")"
   ],
   "outputs": [],
   "execution_count": null
  },
  {
   "cell_type": "code",
   "metadata": {},
   "source": [
    "# Funkcja wypożyczania książki\n",
    "def wypozycz_ksiazke(ksiazka_id, czytelnik, data):\n",
    "    # Sprawdzenie czy książka jest dostępna\n",
    "    bib_kursor.execute('SELECT dostepna FROM ksiazki WHERE id = ?', (ksiazka_id,))\n",
    "    dostepna = bib_kursor.fetchone()[0]\n",
    "    \n",
    "    if dostepna:\n",
    "        # Wypożyczenie książki\n",
    "        bib_kursor.execute('''\n",
    "            INSERT INTO wypozyczenia (ksiazka_id, czytelnik, data_wypozyczenia)\n",
    "            VALUES (?, ?, ?)\n",
    "        ''', (ksiazka_id, czytelnik, data))\n",
    "        \n",
    "        # Oznaczenie książki jako niedostępnej\n",
    "        bib_kursor.execute('''\n",
    "            UPDATE ksiazki SET dostepna = 0 WHERE id = ?\n",
    "        ''', (ksiazka_id,))\n",
    "        \n",
    "        biblioteka.commit()\n",
    "        print(f\"Książka ID {ksiazka_id} została wypożyczona dla {czytelnik}\")\n",
    "    else:\n",
    "        print(\"Książka jest już wypożyczona!\")\n",
    "\n",
    "# Wypożyczenie kilku książek\n",
    "wypozycz_ksiazke(1, 'Jan Kowalski', '2024-01-10')\n",
    "wypozycz_ksiazke(3, 'Anna Nowak', '2024-01-12')"
   ],
   "outputs": [],
   "execution_count": null
  },
  {
   "cell_type": "code",
   "metadata": {},
   "source": [
    "# Wyświetlenie dostępnych książek\n",
    "bib_kursor.execute('''\n",
    "    SELECT tytul, autor, rok_wydania\n",
    "    FROM ksiazki\n",
    "    WHERE dostepna = 1\n",
    "''')\n",
    "\n",
    "print(\"Dostępne książki:\")\n",
    "for ksiazka in bib_kursor.fetchall():\n",
    "    print(f\"- {ksiazka[0]} ({ksiazka[1]}, {ksiazka[2]})\")"
   ],
   "outputs": [],
   "execution_count": null
  },
  {
   "cell_type": "code",
   "metadata": {},
   "source": [
    "# Wyświetlenie aktywnych wypożyczeń\n",
    "bib_kursor.execute('''\n",
    "    SELECT k.tytul, w.czytelnik, w.data_wypozyczenia\n",
    "    FROM wypozyczenia w\n",
    "    INNER JOIN ksiazki k ON w.ksiazka_id = k.id\n",
    "    WHERE w.data_zwrotu IS NULL\n",
    "''')\n",
    "\n",
    "print(\"\\nAktywne wypożyczenia:\")\n",
    "for wypozyczenie in bib_kursor.fetchall():\n",
    "    print(f\"- {wypozyczenie[0]} wypożyczona przez {wypozyczenie[1]} dnia {wypozyczenie[2]}\")"
   ],
   "outputs": [],
   "execution_count": null
  },
  {
   "cell_type": "markdown",
   "metadata": {},
   "source": [
    "## 15. Zamykanie połączenia\n",
    "\n",
    "Zawsze pamiętaj o zamknięciu połączenia z bazą danych!"
   ]
  },
  {
   "cell_type": "code",
   "metadata": {},
   "source": [
    "# Zamknięcie połączenia\n",
    "connection.close()\n",
    "biblioteka.close()\n",
    "\n",
    "print(\"Połączenia z bazami danych zostały zamknięte.\")"
   ],
   "outputs": [],
   "execution_count": null
  },
  {
   "cell_type": "markdown",
   "metadata": {},
   "source": [
    "## Podsumowanie\n",
    "\n",
    "W tej lekcji nauczyliśmy się:\n",
    "\n",
    "1. **Podstawy**: Tworzenie połączenia z bazą danych SQLite\n",
    "2. **DDL**: Tworzenie tabel (`CREATE TABLE`)\n",
    "3. **DML - INSERT**: Dodawanie danych do tabel\n",
    "4. **DML - SELECT**: Odczytywanie danych z tabel\n",
    "5. **Filtrowanie**: Używanie klauzuli `WHERE` i `LIKE`\n",
    "6. **DML - UPDATE**: Aktualizacja istniejących danych\n",
    "7. **DML - DELETE**: Usuwanie danych\n",
    "8. **Sortowanie**: Używanie `ORDER BY`\n",
    "9. **Agregacje**: Funkcje `COUNT`, `AVG`, `MAX`, `MIN` i `GROUP BY`\n",
    "10. **Relacje**: Łączenie tabel za pomocą `JOIN`\n",
    "11. **Transakcje**: Grupowanie operacji w transakcje\n",
    "12. **Context Manager**: Bezpieczne zarządzanie połączeniem\n",
    "13. **Row Factory**: Dostęp do kolumn po nazwie\n",
    "14. **Praktyka**: Implementacja systemu biblioteki\n",
    "\n",
    "### Najważniejsze zasady:\n",
    "\n",
    "- Zawsze używaj **parametryzowanych zapytań** (?) aby uniknąć SQL Injection\n",
    "- Pamiętaj o **commit()** po operacjach modyfikujących dane\n",
    "- Używaj **context managera** (`with`) dla bezpiecznego zarządzania połączeniem\n",
    "- **Zamykaj połączenia** po zakończeniu pracy z bazą danych"
   ]
  }
 ],
 "metadata": {
  "kernelspec": {
   "display_name": "Python 3",
   "language": "python",
   "name": "python3"
  },
  "language_info": {
   "codemirror_mode": {
    "name": "ipython",
    "version": 3
   },
   "file_extension": ".py",
   "mimetype": "text/x-python",
   "name": "python",
   "nbconvert_exporter": "python",
   "pygments_lexer": "ipython3",
   "version": "3.8.0"
  }
 },
 "nbformat": 4,
 "nbformat_minor": 4
}
